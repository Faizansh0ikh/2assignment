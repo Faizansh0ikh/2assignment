{
 "cells": [
  {
   "cell_type": "markdown",
   "id": "7016b735-2dd7-4e28-830b-c0d4a68098b5",
   "metadata": {},
   "source": [
    "1. What is multithreading in python? hy is it used? Name the module used to handle threads in python"
   ]
  },
  {
   "cell_type": "markdown",
   "id": "00184e2b-4950-405e-a238-1e0980e5f3e9",
   "metadata": {},
   "source": [
    "Multithreading in Python refers to the execution of multiple threads within a single process.\n",
    "Multithreading allows different parts of a program to execute simultaneously, \n",
    "improving performance and responsiveness in certain scenarios.\n",
    "threading is a module used to thread multiple threads in single process."
   ]
  },
  {
   "cell_type": "markdown",
   "id": "0263be57-e9b1-418d-85c5-72f7d4a0ee81",
   "metadata": {},
   "source": [
    "2. Why threading module used? rite the use of the following functions\n",
    " activeCount\n",
    " currentThread\n",
    " enumerate"
   ]
  },
  {
   "cell_type": "markdown",
   "id": "e6662217-ad93-42f3-9898-c1c72dc1a476",
   "metadata": {},
   "source": [
    "The threading module in Python is used to handle threads and provides a high-level interface for creating, controlling,\n",
    "and coordinating threads in a Python program.\n",
    "\n",
    "In Python, the activeCount() function is a method provided by the threading module.\n",
    "It is used to determine the number of currently active threads in a Python program.\n",
    "\n",
    "In Python's threading module, the currentThread() function is used to retrieve the current Thread object\n",
    "that represents the thread in which the function is called. This function returns the Thread object\n",
    "associated with the currently executing thread.\n",
    "\n",
    "The enumerate() function in Python is used to iterate over a sequence\n",
    "while simultaneously keeping track of the index and the value of each item in the sequence."
   ]
  },
  {
   "cell_type": "markdown",
   "id": "7d94b698-b5c3-434b-bc5f-266b6d7e1e62",
   "metadata": {},
   "source": [
    "3. Explain the following functions\n",
    " run\n",
    " start\n",
    " join\n",
    " isAlive"
   ]
  },
  {
   "cell_type": "markdown",
   "id": "709ef34f-c2dc-48cc-9b5a-e1192bf2fd20",
   "metadata": {},
   "source": [
    "run() function is a method that defines the behavior of a thread when it is started using the start() method. \n",
    "It is called internally by the start() method and contains the code that will be executed in the thread.\n",
    "\n",
    "the start() function is used to start the execution of a thread.\n",
    "\n",
    "join() function is a string method that allows you to concatenate elements from an iterable\n",
    "into a single string, using a specified delimiter.\n",
    "\n",
    "isAlive() function is used to check whether a thread is currently alive or not."
   ]
  },
  {
   "cell_type": "markdown",
   "id": "ce303010-3da3-4c0e-a4e2-8325d68bd78f",
   "metadata": {},
   "source": [
    "4. rite a python program to create two threads. Thread one must print the list of squares and thread\n",
    "two must print the list of cubes"
   ]
  },
  {
   "cell_type": "code",
   "execution_count": 2,
   "id": "d0911fb3-c26b-4a1c-8477-35d7083e14e7",
   "metadata": {},
   "outputs": [
    {
     "name": "stdout",
     "output_type": "stream",
     "text": [
      "Square of 1: 1\n",
      "Square of 2: 4\n",
      "Square of 3: 9\n",
      "Square of 4: 16\n",
      "Square of 5: 25\n",
      "Square of 6: 36\n",
      "Square of 7: 49\n",
      "Square of 8: 64\n",
      "Square of 9: 81\n",
      "Square of 10: 100\n",
      "Cube of 1: 1\n",
      "Cube of 2: 8\n",
      "Cube of 3: 27\n",
      "Cube of 4: 64\n",
      "Cube of 5: 125\n",
      "Cube of 6: 216\n",
      "Cube of 7: 343\n",
      "Cube of 8: 512\n",
      "Cube of 9: 729\n",
      "Cube of 10: 1000\n",
      "Program execution completed.\n"
     ]
    }
   ],
   "source": [
    "import threading\n",
    "\n",
    "def print_squares():\n",
    "    for num in range(1, 11):\n",
    "        square = num ** 2\n",
    "        print(f\"Square of {num}: {square}\")\n",
    "\n",
    "def print_cubes():\n",
    "    for num in range(1, 11):\n",
    "        cube = num ** 3\n",
    "        print(f\"Cube of {num}: {cube}\")\n",
    "\n",
    "# Create threads\n",
    "thread1 = threading.Thread(target=print_squares)\n",
    "thread2 = threading.Thread(target=print_cubes)\n",
    "\n",
    "# Start threads\n",
    "thread1.start()\n",
    "thread2.start()\n",
    "\n",
    "# Wait for both threads to finish\n",
    "thread1.join()\n",
    "thread2.join()\n",
    "\n",
    "print(\"Program execution completed.\")\n"
   ]
  },
  {
   "cell_type": "code",
   "execution_count": null,
   "id": "d41d86fd-dbc3-4230-8105-af16826d2770",
   "metadata": {},
   "outputs": [],
   "source": []
  },
  {
   "cell_type": "markdown",
   "id": "a233597b-1ce9-47c7-a359-41b2efafc8bf",
   "metadata": {},
   "source": [
    "5. State advantages and disadvantages of multithreading\n"
   ]
  },
  {
   "cell_type": "markdown",
   "id": "9c2ca8ef-0e58-4093-81e7-292b2ea98098",
   "metadata": {},
   "source": [
    "\n",
    "Advantages of Multithreading:\n",
    "1. **Concurrency and Responsiveness**: Multithreading allows for concurrent execution of multiple threads within a single process. It enables different parts of a program to make progress simultaneously, improving overall performance and responsiveness. For example, a multithreaded application can continue responding to user input while performing background tasks.\n",
    "\n",
    "2. **Efficient Resource Utilization**: Multithreading enables efficient utilization of system resources, particularly in situations where tasks can be parallelized. By dividing a workload into multiple threads, a program can take advantage of available CPU cores, leading to faster execution and improved efficiency.\n",
    "\n",
    "3. **Asynchronous Operations**: Multithreading facilitates asynchronous programming. By running tasks concurrently and independently, it enables non-blocking execution, allowing a program to perform other operations while waiting for time-consuming or I/O-bound tasks to complete. This can enhance the overall performance and responsiveness of applications, especially when dealing with network operations or file I/O.\n",
    "\n",
    "4. **Shared Memory Access**: Multithreading allows multiple threads to share the same memory space, making it easier to share data and communicate between threads. This can simplify inter-thread communication and coordination, leading to more efficient collaboration between different parts of a program.\n",
    "\n",
    "Disadvantages of Multithreading:\n",
    "1. **Complexity and Synchronization**: Multithreaded programs can be more complex to design, implement, and debug compared to single-threaded programs. Synchronization becomes crucial to manage shared resources and avoid race conditions. Dealing with synchronization primitives, such as locks and semaphores, requires careful attention to ensure correct and efficient thread coordination.\n",
    "\n",
    "2. **Concurrency Issues**: Multithreading introduces the possibility of concurrency issues, such as race conditions, deadlocks, and livelocks. These issues occur when multiple threads access shared resources concurrently and can lead to unexpected program behavior or program crashes. Debugging and resolving such issues can be challenging.\n",
    "\n",
    "3. **Increased Memory Overhead**: Each thread in a multithreaded program requires its own stack and thread-specific data structures, which can result in increased memory usage compared to single-threaded programs. As the number of threads increases, the memory overhead associated with thread management also increases.\n",
    "\n",
    "4. **Reduced Determinism**: Multithreading can introduce non-deterministic behavior due to thread scheduling and potential variations in execution order. This non-determinism can make it more challenging to reproduce and debug issues related to thread interactions and timing.\n",
    "\n",
    "5. **Potential Performance Bottlenecks**: While multithreading can improve performance in many scenarios, it is not always guaranteed. Some applications may encounter performance bottlenecks due to factors such as excessive thread synchronization, contention for shared resources, or limited scalability of certain operations."
   ]
  },
  {
   "cell_type": "markdown",
   "id": "a9874f0f-7886-4fb5-98e6-4170c67631c2",
   "metadata": {},
   "source": [
    "6. Explain deadlocks and race conditions."
   ]
  },
  {
   "cell_type": "markdown",
   "id": "63a27871-e83e-41d2-9c5e-1b32f0eeb2c2",
   "metadata": {},
   "source": [
    "Deadlocks:\n",
    "A deadlock is a situation where two or more threads are blocked forever, waiting for each other to release resources.\n",
    "\n",
    "Race Conditions:\n",
    "A race condition occurs when multiple threads access shared data concurrently, and the final outcome of the program depends on the relative timing of the threads. \n"
   ]
  },
  {
   "cell_type": "code",
   "execution_count": null,
   "id": "8c57a3e7-0e84-45b2-bb89-ced51f294e42",
   "metadata": {},
   "outputs": [],
   "source": []
  }
 ],
 "metadata": {
  "kernelspec": {
   "display_name": "Python 3 (ipykernel)",
   "language": "python",
   "name": "python3"
  },
  "language_info": {
   "codemirror_mode": {
    "name": "ipython",
    "version": 3
   },
   "file_extension": ".py",
   "mimetype": "text/x-python",
   "name": "python",
   "nbconvert_exporter": "python",
   "pygments_lexer": "ipython3",
   "version": "3.10.8"
  }
 },
 "nbformat": 4,
 "nbformat_minor": 5
}
